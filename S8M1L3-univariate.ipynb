{
 "cells": [
  {
   "cell_type": "code",
   "execution_count": 14,
   "metadata": {
    "colab": {},
    "colab_type": "code",
    "id": "_aWvcN8bK4ek"
   },
   "outputs": [],
   "source": [
    "import numpy as np\n",
    "import pandas as pd\n",
    "import matplotlib.pyplot as plt\n",
    "\n",
    "# plt.style.use('classic')"
   ]
  },
  {
   "cell_type": "code",
   "execution_count": 15,
   "metadata": {
    "colab": {},
    "colab_type": "code",
    "id": "h98eyrhWBPcs"
   },
   "outputs": [],
   "source": [
    "base = \"https://raw.githubusercontent.com/pathstream-curriculum/Python/master/\"\n",
    "retail_features = \"retail_features_4stores.csv\"\n",
    "retail_sales = \"retail_sales_4stores.csv\""
   ]
  },
  {
   "cell_type": "code",
   "execution_count": 22,
   "metadata": {},
   "outputs": [],
   "source": [
    "retail_sales_df = pd.read_csv(base + retail_sales)\n",
    "retail_features_df = pd.read_csv(base + retail_features)"
   ]
  },
  {
   "cell_type": "code",
   "execution_count": 23,
   "metadata": {},
   "outputs": [],
   "source": [
    "# convert Date to datetime\n",
    "retail_sales_df[\"Date\"] = pd.to_datetime(retail_sales_df.Date)\n",
    "retail_features_df[\"Date\"] = pd.to_datetime(retail_sales_df.Date)\n",
    "# convert Store and Dept to string\n",
    "retail_sales_df[\"Store\"] = retail_sales_df.Store.astype(\"str\")\n",
    "retail_sales_df[\"Dept\"] = retail_sales_df.Dept.astype(\"str\")\n",
    "retail_features_df[\"Store\"] = retail_features_df.Store.astype(\"str\")\n",
    "\n",
    "#deal with the sorting issue up front\n",
    "retail_sales_df.sort_values(\"Date\", inplace=True)\n",
    "retail_features_df.sort_values(\"Date\", inplace=True)"
   ]
  },
  {
   "cell_type": "code",
   "execution_count": 24,
   "metadata": {
    "colab": {
     "base_uri": "https://localhost:8080/",
     "height": 204
    },
    "colab_type": "code",
    "id": "VofA3YTYVHwk",
    "outputId": "626a60dd-fc28-42dc-848f-1dd40bd57e08"
   },
   "outputs": [
    {
     "data": {
      "text/html": [
       "<div>\n",
       "<style scoped>\n",
       "    .dataframe tbody tr th:only-of-type {\n",
       "        vertical-align: middle;\n",
       "    }\n",
       "\n",
       "    .dataframe tbody tr th {\n",
       "        vertical-align: top;\n",
       "    }\n",
       "\n",
       "    .dataframe thead th {\n",
       "        text-align: right;\n",
       "    }\n",
       "</style>\n",
       "<table border=\"1\" class=\"dataframe\">\n",
       "  <thead>\n",
       "    <tr style=\"text-align: right;\">\n",
       "      <th></th>\n",
       "      <th>Unnamed: 0</th>\n",
       "      <th>Unnamed: 0.1</th>\n",
       "      <th>Store</th>\n",
       "      <th>Dept</th>\n",
       "      <th>Date</th>\n",
       "      <th>Weekly_Sales</th>\n",
       "      <th>IsHoliday</th>\n",
       "    </tr>\n",
       "  </thead>\n",
       "  <tbody>\n",
       "    <tr>\n",
       "      <td>0</td>\n",
       "      <td>1178</td>\n",
       "      <td>10278</td>\n",
       "      <td>Los Angeles</td>\n",
       "      <td>Clothing</td>\n",
       "      <td>2010-01-10</td>\n",
       "      <td>27023.35</td>\n",
       "      <td>False</td>\n",
       "    </tr>\n",
       "    <tr>\n",
       "      <td>31</td>\n",
       "      <td>2751</td>\n",
       "      <td>20945</td>\n",
       "      <td>Buffalo</td>\n",
       "      <td>Jewelry</td>\n",
       "      <td>2010-01-10</td>\n",
       "      <td>6947.26</td>\n",
       "      <td>False</td>\n",
       "    </tr>\n",
       "    <tr>\n",
       "      <td>30</td>\n",
       "      <td>1464</td>\n",
       "      <td>10564</td>\n",
       "      <td>Los Angeles</td>\n",
       "      <td>Furniture</td>\n",
       "      <td>2010-01-10</td>\n",
       "      <td>12390.87</td>\n",
       "      <td>False</td>\n",
       "    </tr>\n",
       "    <tr>\n",
       "      <td>29</td>\n",
       "      <td>3609</td>\n",
       "      <td>29695</td>\n",
       "      <td>Seattle</td>\n",
       "      <td>Housewares</td>\n",
       "      <td>2010-01-10</td>\n",
       "      <td>88537.23</td>\n",
       "      <td>False</td>\n",
       "    </tr>\n",
       "    <tr>\n",
       "      <td>28</td>\n",
       "      <td>463</td>\n",
       "      <td>463</td>\n",
       "      <td>Las Vegas</td>\n",
       "      <td>Jewelry</td>\n",
       "      <td>2010-01-10</td>\n",
       "      <td>34912.45</td>\n",
       "      <td>False</td>\n",
       "    </tr>\n",
       "  </tbody>\n",
       "</table>\n",
       "</div>"
      ],
      "text/plain": [
       "    Unnamed: 0  Unnamed: 0.1        Store        Dept       Date  \\\n",
       "0         1178         10278  Los Angeles    Clothing 2010-01-10   \n",
       "31        2751         20945      Buffalo     Jewelry 2010-01-10   \n",
       "30        1464         10564  Los Angeles   Furniture 2010-01-10   \n",
       "29        3609         29695      Seattle  Housewares 2010-01-10   \n",
       "28         463           463    Las Vegas     Jewelry 2010-01-10   \n",
       "\n",
       "    Weekly_Sales  IsHoliday  \n",
       "0       27023.35      False  \n",
       "31       6947.26      False  \n",
       "30      12390.87      False  \n",
       "29      88537.23      False  \n",
       "28      34912.45      False  "
      ]
     },
     "execution_count": 24,
     "metadata": {},
     "output_type": "execute_result"
    }
   ],
   "source": [
    "retail_sales_df.head()"
   ]
  },
  {
   "cell_type": "code",
   "execution_count": 25,
   "metadata": {
    "colab": {
     "base_uri": "https://localhost:8080/",
     "height": 238
    },
    "colab_type": "code",
    "id": "a25OLAE-VHn6",
    "outputId": "53b8461e-e5c4-4e53-e89e-c28cdbf4eab0"
   },
   "outputs": [
    {
     "name": "stdout",
     "output_type": "stream",
     "text": [
      "<class 'pandas.core.frame.DataFrame'>\n",
      "Int64Index: 4576 entries, 0 to 4575\n",
      "Data columns (total 7 columns):\n",
      "Unnamed: 0      4576 non-null int64\n",
      "Unnamed: 0.1    4576 non-null int64\n",
      "Store           4576 non-null object\n",
      "Dept            4576 non-null object\n",
      "Date            4576 non-null datetime64[ns]\n",
      "Weekly_Sales    4576 non-null float64\n",
      "IsHoliday       4576 non-null bool\n",
      "dtypes: bool(1), datetime64[ns](1), float64(1), int64(2), object(2)\n",
      "memory usage: 254.7+ KB\n"
     ]
    }
   ],
   "source": [
    "retail_sales_df.info()"
   ]
  },
  {
   "cell_type": "code",
   "execution_count": 26,
   "metadata": {},
   "outputs": [],
   "source": [
    "# convert Date to datetime\n",
    "retail_sales_df[\"Date\"] = pd.to_datetime(retail_sales_df.Date)"
   ]
  },
  {
   "cell_type": "code",
   "execution_count": 27,
   "metadata": {
    "colab": {
     "base_uri": "https://localhost:8080/",
     "height": 204
    },
    "colab_type": "code",
    "id": "P2-MgxaLtB8D",
    "outputId": "02c30095-5f01-4e7a-834d-d0fb0b8ea0ae"
   },
   "outputs": [
    {
     "data": {
      "text/html": [
       "<div>\n",
       "<style scoped>\n",
       "    .dataframe tbody tr th:only-of-type {\n",
       "        vertical-align: middle;\n",
       "    }\n",
       "\n",
       "    .dataframe tbody tr th {\n",
       "        vertical-align: top;\n",
       "    }\n",
       "\n",
       "    .dataframe thead th {\n",
       "        text-align: right;\n",
       "    }\n",
       "</style>\n",
       "<table border=\"1\" class=\"dataframe\">\n",
       "  <thead>\n",
       "    <tr style=\"text-align: right;\">\n",
       "      <th></th>\n",
       "      <th>Unnamed: 0</th>\n",
       "      <th>Store</th>\n",
       "      <th>Date</th>\n",
       "      <th>Temperature</th>\n",
       "      <th>Fuel_Price</th>\n",
       "      <th>CPI</th>\n",
       "      <th>Unemployment</th>\n",
       "      <th>IsHoliday</th>\n",
       "    </tr>\n",
       "  </thead>\n",
       "  <tbody>\n",
       "    <tr>\n",
       "      <td>0</td>\n",
       "      <td>463</td>\n",
       "      <td>Buffalo</td>\n",
       "      <td>2010-01-10</td>\n",
       "      <td>48.29</td>\n",
       "      <td>3.129</td>\n",
       "      <td>223.009084</td>\n",
       "      <td>7.197</td>\n",
       "      <td>True</td>\n",
       "    </tr>\n",
       "    <tr>\n",
       "      <td>31</td>\n",
       "      <td>30</td>\n",
       "      <td>Las Vegas</td>\n",
       "      <td>2010-01-10</td>\n",
       "      <td>81.21</td>\n",
       "      <td>2.577</td>\n",
       "      <td>211.531248</td>\n",
       "      <td>7.787</td>\n",
       "      <td>False</td>\n",
       "    </tr>\n",
       "    <tr>\n",
       "      <td>30</td>\n",
       "      <td>459</td>\n",
       "      <td>Buffalo</td>\n",
       "      <td>2010-01-10</td>\n",
       "      <td>54.97</td>\n",
       "      <td>3.172</td>\n",
       "      <td>222.158952</td>\n",
       "      <td>7.197</td>\n",
       "      <td>False</td>\n",
       "    </tr>\n",
       "    <tr>\n",
       "      <td>29</td>\n",
       "      <td>316</td>\n",
       "      <td>Los Angeles</td>\n",
       "      <td>2010-01-10</td>\n",
       "      <td>82.64</td>\n",
       "      <td>3.638</td>\n",
       "      <td>221.941558</td>\n",
       "      <td>6.565</td>\n",
       "      <td>False</td>\n",
       "    </tr>\n",
       "    <tr>\n",
       "      <td>28</td>\n",
       "      <td>602</td>\n",
       "      <td>Seattle</td>\n",
       "      <td>2010-01-10</td>\n",
       "      <td>46.56</td>\n",
       "      <td>3.305</td>\n",
       "      <td>128.264750</td>\n",
       "      <td>6.510</td>\n",
       "      <td>False</td>\n",
       "    </tr>\n",
       "  </tbody>\n",
       "</table>\n",
       "</div>"
      ],
      "text/plain": [
       "    Unnamed: 0        Store       Date  Temperature  Fuel_Price         CPI  \\\n",
       "0          463      Buffalo 2010-01-10        48.29       3.129  223.009084   \n",
       "31          30    Las Vegas 2010-01-10        81.21       2.577  211.531248   \n",
       "30         459      Buffalo 2010-01-10        54.97       3.172  222.158952   \n",
       "29         316  Los Angeles 2010-01-10        82.64       3.638  221.941558   \n",
       "28         602      Seattle 2010-01-10        46.56       3.305  128.264750   \n",
       "\n",
       "    Unemployment  IsHoliday  \n",
       "0          7.197       True  \n",
       "31         7.787      False  \n",
       "30         7.197      False  \n",
       "29         6.565      False  \n",
       "28         6.510      False  "
      ]
     },
     "execution_count": 27,
     "metadata": {},
     "output_type": "execute_result"
    }
   ],
   "source": [
    "retail_features_df.head()"
   ]
  },
  {
   "cell_type": "code",
   "execution_count": 28,
   "metadata": {},
   "outputs": [
    {
     "name": "stdout",
     "output_type": "stream",
     "text": [
      "<class 'pandas.core.frame.DataFrame'>\n",
      "Int64Index: 728 entries, 0 to 727\n",
      "Data columns (total 8 columns):\n",
      "Unnamed: 0      728 non-null int64\n",
      "Store           728 non-null object\n",
      "Date            728 non-null datetime64[ns]\n",
      "Temperature     728 non-null float64\n",
      "Fuel_Price      728 non-null float64\n",
      "CPI             676 non-null float64\n",
      "Unemployment    676 non-null float64\n",
      "IsHoliday       728 non-null bool\n",
      "dtypes: bool(1), datetime64[ns](1), float64(4), int64(1), object(1)\n",
      "memory usage: 46.2+ KB\n"
     ]
    }
   ],
   "source": [
    "retail_features_df.info()"
   ]
  },
  {
   "cell_type": "markdown",
   "metadata": {},
   "source": [
    "# Histograms!"
   ]
  },
  {
   "cell_type": "code",
   "execution_count": 29,
   "metadata": {
    "colab": {
     "base_uri": "https://localhost:8080/",
     "height": 487
    },
    "colab_type": "code",
    "id": "yzwkVAa0TQAA",
    "outputId": "2112e0fa-5d4b-4e8b-d048-9b682117223d"
   },
   "outputs": [
    {
     "name": "stderr",
     "output_type": "stream",
     "text": [
      "/Users/caldermyers/opt/anaconda3/lib/python3.7/site-packages/numpy/lib/histograms.py:829: RuntimeWarning: invalid value encountered in greater_equal\n",
      "  keep = (tmp_a >= first_edge)\n",
      "/Users/caldermyers/opt/anaconda3/lib/python3.7/site-packages/numpy/lib/histograms.py:830: RuntimeWarning: invalid value encountered in less_equal\n",
      "  keep &= (tmp_a <= last_edge)\n"
     ]
    },
    {
     "data": {
      "text/plain": [
       "Text(0.5, 0, 'Unemployment Rate (Percent)')"
      ]
     },
     "execution_count": 29,
     "metadata": {},
     "output_type": "execute_result"
    },
    {
     "data": {
      "image/png": "[encoded data removed]",
      "text/plain": [
       "<Figure size 432x288 with 1 Axes>"
      ]
     },
     "metadata": {
      "needs_background": "light"
     },
     "output_type": "display_data"
    }
   ],
   "source": [
    "fig, ax = plt.subplots()\n",
    "ax.hist(retail_features_df[\"Unemployment\"])\n",
    "ax.set_title(\"Distribution of Unemployment Rate\")\n",
    "ax.set_xlabel(\"Unemployment Rate (Percent)\")"
   ]
  },
  {
   "cell_type": "code",
   "execution_count": 30,
   "metadata": {
    "colab": {
     "base_uri": "https://localhost:8080/",
     "height": 51
    },
    "colab_type": "code",
    "id": "OcScgTgFaoG9",
    "outputId": "9121aed2-bc78-47d6-a642-5f39a2bdaf97"
   },
   "outputs": [
    {
     "data": {
      "text/plain": [
       "array([3.879 , 4.3534, 4.8278, 5.3022, 5.7766, 6.251 , 6.7254, 7.1998,\n",
       "       7.6742, 8.1486, 8.623 ])"
      ]
     },
     "execution_count": 30,
     "metadata": {},
     "output_type": "execute_result"
    }
   ],
   "source": [
    "n, bins, patches = ax.hist(retail_features_df[\"Unemployment\"])\n",
    "# this shows the edges of the bins computed by MPL for the hist above \n",
    "bins"
   ]
  },
  {
   "cell_type": "code",
   "execution_count": 31,
   "metadata": {
    "colab": {},
    "colab_type": "code",
    "id": "iZV4I6KPXzgU"
   },
   "outputs": [],
   "source": [
    "# make nicer bin cutoffs\n",
    "custom_bins = [3.5, 4, 4.5, 5, 5.5, 6, 6.5, 7, 7.5, 8, 8.5, 9]\n"
   ]
  },
  {
   "cell_type": "code",
   "execution_count": 32,
   "metadata": {
    "colab": {
     "base_uri": "https://localhost:8080/",
     "height": 487
    },
    "colab_type": "code",
    "id": "4x8DhRYKTPuu",
    "outputId": "78dd16fc-7769-4fe5-d132-408f97ab5ff8"
   },
   "outputs": [
    {
     "data": {
      "text/plain": [
       "Text(0.5, 0, 'Unemployment Rate (Percent)')"
      ]
     },
     "execution_count": 32,
     "metadata": {},
     "output_type": "execute_result"
    },
    {
     "data": {
      "image/png": "[encoded data removed]",
      "text/plain": [
       "<Figure size 432x288 with 1 Axes>"
      ]
     },
     "metadata": {
      "needs_background": "light"
     },
     "output_type": "display_data"
    }
   ],
   "source": [
    "fig, ax = plt.subplots()\n",
    "ax.hist(retail_features_df[\"Unemployment\"], bins = custom_bins)\n",
    "ax.set_title(\"Distribution of Unemployment Rate\")\n",
    "ax.set_xlabel(\"Unemployment Rate (Percent)\")"
   ]
  },
  {
   "cell_type": "code",
   "execution_count": 33,
   "metadata": {
    "colab": {
     "base_uri": "https://localhost:8080/",
     "height": 487
    },
    "colab_type": "code",
    "id": "Vf0Ccz5Ra0Vj",
    "outputId": "336257f1-35e3-44df-94c6-b558075cb7c6"
   },
   "outputs": [
    {
     "data": {
      "text/plain": [
       "Text(0.5, 0, 'Unemployment Rate (Percent)')"
      ]
     },
     "execution_count": 33,
     "metadata": {},
     "output_type": "execute_result"
    },
    {
     "data": {
      "image/png": "[encoded data removed]",
      "text/plain": [
       "<Figure size 432x288 with 1 Axes>"
      ]
     },
     "metadata": {
      "needs_background": "light"
     },
     "output_type": "display_data"
    }
   ],
   "source": [
    "fig, ax = plt.subplots()\n",
    "ax.hist(retail_features_df[\"Unemployment\"], \n",
    "        bins = custom_bins,\n",
    "        density = True)\n",
    "ax.set_title(\"Distribution of Unemployment Rate\")\n",
    "ax.set_xlabel(\"Unemployment Rate (Percent)\")"
   ]
  },
  {
   "cell_type": "code",
   "execution_count": 34,
   "metadata": {
    "colab": {
     "base_uri": "https://localhost:8080/",
     "height": 576
    },
    "colab_type": "code",
    "id": "OKovUu2Haz4q",
    "outputId": "7da91c41-ec19-4a1e-c58c-874ad2fb20cc"
   },
   "outputs": [
    {
     "data": {
      "text/plain": [
       "{'whiskers': [<matplotlib.lines.Line2D at 0x7fb1e6a95490>,\n",
       "  <matplotlib.lines.Line2D at 0x7fb1e6aa05d0>],\n",
       " 'caps': [<matplotlib.lines.Line2D at 0x7fb1e6aa0ad0>,\n",
       "  <matplotlib.lines.Line2D at 0x7fb1e6aa0fd0>],\n",
       " 'boxes': [<matplotlib.lines.Line2D at 0x7fb1e6a95450>],\n",
       " 'medians': [<matplotlib.lines.Line2D at 0x7fb1e6aa8550>],\n",
       " 'fliers': [<matplotlib.lines.Line2D at 0x7fb1e6aa8a50>],\n",
       " 'means': []}"
      ]
     },
     "execution_count": 34,
     "metadata": {},
     "output_type": "execute_result"
    },
    {
     "data": {
      "image/png": "[encoded data removed]",
      "text/plain": [
       "<Figure size 432x288 with 1 Axes>"
      ]
     },
     "metadata": {
      "needs_background": "light"
     },
     "output_type": "display_data"
    }
   ],
   "source": [
    "fig, ax = plt.subplots()\n",
    "ax.boxplot(retail_features_df[\"Fuel_Price\"])"
   ]
  },
  {
   "cell_type": "code",
   "execution_count": 35,
   "metadata": {
    "colab": {
     "base_uri": "https://localhost:8080/",
     "height": 487
    },
    "colab_type": "code",
    "id": "Qz0bexgih51L",
    "outputId": "031e65e1-6019-477d-f8e3-f6239cddc5b5"
   },
   "outputs": [
    {
     "data": {
      "text/plain": [
       "Text(0.5, 0, 'Price in Dollars')"
      ]
     },
     "execution_count": 35,
     "metadata": {},
     "output_type": "execute_result"
    },
    {
     "data": {
      "image/png": "[encoded data removed]",
      "text/plain": [
       "<Figure size 432x288 with 1 Axes>"
      ]
     },
     "metadata": {
      "needs_background": "light"
     },
     "output_type": "display_data"
    }
   ],
   "source": [
    "fig, ax = plt.subplots()\n",
    "ax.boxplot(retail_features_df[\"Fuel_Price\"], labels = [\"\"], vert=False)\n",
    "ax.set_title(\"Distribution of Fuel Prices\")\n",
    "ax.set_xlabel(\"Price in Dollars\")"
   ]
  },
  {
   "cell_type": "code",
   "execution_count": 36,
   "metadata": {
    "colab": {
     "base_uri": "https://localhost:8080/",
     "height": 487
    },
    "colab_type": "code",
    "id": "iUGQ_PCWh5gV",
    "outputId": "8a55a9b5-4db1-4311-df81-37437701d721"
   },
   "outputs": [
    {
     "data": {
      "text/plain": [
       "Text(0.5, 0, 'Unemployment Rate, percent')"
      ]
     },
     "execution_count": 36,
     "metadata": {},
     "output_type": "execute_result"
    },
    {
     "data": {
      "image/png": "[encoded data removed]",
      "text/plain": [
       "<Figure size 432x288 with 1 Axes>"
      ]
     },
     "metadata": {
      "needs_background": "light"
     },
     "output_type": "display_data"
    }
   ],
   "source": [
    "fig, ax = plt.subplots()\n",
    "ax.boxplot(retail_features_df[\"Unemployment\"].dropna(), labels = [\"\"], vert=False)\n",
    "ax.set_title(\"Distribution of Unemployment Rate\")\n",
    "ax.set_xlabel(\"Unemployment Rate, percent\")"
   ]
  },
  {
   "cell_type": "code",
   "execution_count": 37,
   "metadata": {
    "colab": {
     "base_uri": "https://localhost:8080/",
     "height": 487
    },
    "colab_type": "code",
    "id": "6T3LgRfSh5U6",
    "outputId": "f516cd35-a347-4d8b-fa34-3f9646ccfacb"
   },
   "outputs": [
    {
     "data": {
      "text/plain": [
       "Text(0.5, 0, 'Unemployment Rate, percent')"
      ]
     },
     "execution_count": 37,
     "metadata": {},
     "output_type": "execute_result"
    },
    {
     "data": {
      "image/png": "[encoded data removed]",
      "text/plain": [
       "<Figure size 432x288 with 1 Axes>"
      ]
     },
     "metadata": {
      "needs_background": "light"
     },
     "output_type": "display_data"
    }
   ],
   "source": [
    "fig, ax = plt.subplots()\n",
    "ax.boxplot(retail_features_df[\"Unemployment\"].dropna(), \n",
    "           labels = [\"\"], \n",
    "           vert=False,\n",
    "           whis=[0, 100])\n",
    "ax.set_title(\"Distribution of Unemployment Rate\")\n",
    "ax.set_xlabel(\"Unemployment Rate, percent\")"
   ]
  },
  {
   "cell_type": "code",
   "execution_count": null,
   "metadata": {},
   "outputs": [],
   "source": []
  }
 ],
 "metadata": {
  "colab": {
   "name": "data-viz.ipynb",
   "provenance": [],
   "toc_visible": true
  },
  "kernelspec": {
   "display_name": "Python 3",
   "language": "python",
   "name": "python3"
  },
  "language_info": {
   "codemirror_mode": {
    "name": "ipython",
    "version": 3
   },
   "file_extension": ".py",
   "mimetype": "text/x-python",
   "name": "python",
   "nbconvert_exporter": "python",
   "pygments_lexer": "ipython3",
   "version": "3.7.4"
  }
 },
 "nbformat": 4,
 "nbformat_minor": 1
}
